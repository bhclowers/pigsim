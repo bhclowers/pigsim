{
 "cells": [
  {
   "cell_type": "markdown",
   "id": "bc351f93",
   "metadata": {},
   "source": [
    "# SLIM Tricks -- Simulation Generation Outline"
   ]
  },
  {
   "cell_type": "markdown",
   "id": "fa5be3b6",
   "metadata": {},
   "source": [
    "## Generate a simple Monomer, Extruded Polymer, and Standard Turn"
   ]
  },
  {
   "cell_type": "code",
   "execution_count": 1,
   "id": "a8c9cda2",
   "metadata": {},
   "outputs": [],
   "source": [
    "from PIL import Image, ImageDraw # pixel-accurate images, see pillow.readthedocs.io\n",
    "\n",
    "import numpy as np \n",
    "import matplotlib.pyplot as plt\n",
    "import matplotlib as mpl"
   ]
  },
  {
   "cell_type": "markdown",
   "id": "8de4f87a",
   "metadata": {},
   "source": [
    "## Dictionary of Model Parameters --> Parameter lua\n",
    "\n",
    "### This workflow relies on integrating our python tools for designing planar ion guides with a lua-based initliaization script that SIMION can read. Starting with a dictionary of global variables and saving that to a parameter file that the setup lua can access is a good first step. Some parameters are just for drawing, some are required for the ion bench to initilaize correctly."
   ]
  },
  {
   "cell_type": "code",
   "execution_count": 2,
   "id": "bfebf3e3",
   "metadata": {},
   "outputs": [],
   "source": [
    "def writeParamFile(paramDict, fileName):\n",
    "    '''write some variables to carry over to setup lua'''\n",
    "    f = open(fileName, 'w')\n",
    "    for k in paramDict.keys():\n",
    "        l = '%s = %s    %s\\n'%(k, paramDict[k][0], paramDict[k][1])\n",
    "        f.write(l)\n",
    "#         print(k, '=', paramDict[k][0], paramDict[k][1])\n",
    "    f.close()\n",
    "    \n",
    "    print(\"%s written to file\"%fileName,\"\\n\")\n",
    "    \n",
    "def dict_to_table(dictionary):\n",
    "    '''standard conversion - lua  uses tables instead of dicts'''\n",
    "    table_string = '{'\n",
    "    for key, val in zip(dictionary.keys(), dictionary.values()):\n",
    "#         print(key)\n",
    "        entry ='[\"%s\"]'%key + ' = %s'%val+', '\n",
    "        table_string += entry\n",
    "    \n",
    "    table_string = table_string[:-2]\n",
    "    table_string +='}'\n",
    "    \n",
    "    return(table_string)"
   ]
  },
  {
   "cell_type": "markdown",
   "id": "12592e20-b9f9-4a25-aadb-3f406e3ff242",
   "metadata": {},
   "source": [
    "## This version has been modified to output symmetric or asymmetric SLIM board pairs. Change the paramDict \"symmetry\" to \"'ASY'\" to generate two distinct boards."
   ]
  },
  {
   "cell_type": "code",
   "execution_count": 3,
   "id": "4c43e0c5",
   "metadata": {},
   "outputs": [
    {
     "name": "stdout",
     "output_type": "stream",
     "text": [
      "total Length = 9.144 mm /  360 pix\n",
      "total Width  = 12.2936 mm /  484 pix\n",
      "track Width  = 5.9944 mm /  236 pix\n"
     ]
    }
   ],
   "source": [
    "paramDict = {}\n",
    "\n",
    "# by convenience, measure models in pixels\n",
    "pixelScale = 0.0254 # 1 pixel is 0.001\" which is 0.0254 mm\n",
    "\n",
    "# symmetry of electrodes:\n",
    "symmetry = \"'SYM'\"\n",
    "# symmetry = \"'ASY'\"\n",
    "paramDict['Symmetry'] = [symmetry, '--Field Symmetry']\n",
    "\n",
    "## SLIM electrode dimensions:\n",
    "wElectrode = 16 # value in pixels and in this case 0.001\" or 1 mil\n",
    "paramDict['wElectrode'] = [wElectrode*pixelScale, '--Width of the DC electrode (mm)']\n",
    "\n",
    "lElectrode = 40 \n",
    "paramDict['lElectrode'] = [lElectrode*pixelScale, '--Length of the DC electrode (mm)']\n",
    "\n",
    "wRF = 16\n",
    "paramDict['wRF'] = [wRF*pixelScale, '--Width of the RF (mm)'] \n",
    "\n",
    "wGuard = 124 \n",
    "paramDict['wGuard'] = [wGuard*pixelScale, '--Width of the Guard (mm)']\n",
    "\n",
    "sp = 5 # spacing\n",
    "paramDict['sp'] = [sp*pixelScale, '--Spacing between electrodes (mm)']\n",
    "\n",
    "## Count parameters for setting up a monomer:\n",
    "numDC = 8 # number of TW assignments in a cycle\n",
    "paramDict['numDC'] = [numDC, '--Number of DC electrodes per TW Segment']\n",
    "\n",
    "numRowsDC = 5 # number of TW electrodes per assignment (i.e., rows)\n",
    "paramDict['numRowsDC'] = [numRowsDC, '--Number of rows of TWAVE segments']\n",
    "\n",
    "numRF = 6 # number of RF electrodes in a monomer\n",
    "paramDict['numRF'] = [numRF, '--Number of RF Segments']\n",
    "\n",
    "numGuards = 2 # for measurements' sake\n",
    "paramDict['numGuards'] = [numGuards, '--Number of Guard Segments']\n",
    "\n",
    "## Monomer multipliers (optional, makes base unit a multiple in either direction):\n",
    "numMonomersX = 1 #the number of monomers in the x direction\n",
    "monomerLen = (numDC*(lElectrode+sp))\n",
    "totalLen = monomerLen*numMonomersX\n",
    "\n",
    "numMonomersY = 1 #the number of monomers in the y direction\n",
    "monomerWidth = (wGuard)*numGuards+(wElectrode+sp)*numRowsDC+numRF*(wRF+sp)+sp\n",
    "totalWidth = monomerWidth*numMonomersY\n",
    "\n",
    "trackWidth = totalWidth - (2 * wGuard) # width between the guards\n",
    "d = (0.125*25.4)/2 # half the distance between the boards for simulation\n",
    "# d = 1.375 # next-gen spacer size\n",
    "\n",
    "# good figures to review before moving on\n",
    "paramDict['totalLen'] = [totalLen*pixelScale, '--Total Length of the monomer (mm)']\n",
    "paramDict['totalWidth'] = [totalWidth*pixelScale, '--Total Width of the monomer (mm)']\n",
    "paramDict['trackWidth'] = [trackWidth*pixelScale, '--Track Width (mm)']\n",
    "paramDict['d'] = [d, '-- half distance between the layers/boards (mm)']\n",
    "\n",
    "# check some basics\n",
    "print('total Length =',totalLen*pixelScale, 'mm / ', totalLen, 'pix')\n",
    "print('total Width  =',totalWidth*pixelScale, 'mm / ', totalWidth, 'pix')\n",
    "print('track Width  =',trackWidth*pixelScale, 'mm / ', trackWidth, 'pix')"
   ]
  },
  {
   "cell_type": "code",
   "execution_count": 4,
   "id": "9ef0b730",
   "metadata": {},
   "outputs": [
    {
     "name": "stdout",
     "output_type": "stream",
     "text": [
      "Extrude_SLIM_Parameters.lua written to file \n",
      "\n",
      "Symmetry = 'ASY'    --Field Symmetry\r\n",
      "wElectrode = 0.4064    --Width of the DC electrode (mm)\r\n",
      "lElectrode = 1.016    --Length of the DC electrode (mm)\r\n",
      "wRF = 0.4064    --Width of the RF (mm)\r\n",
      "wGuard = 3.1496    --Width of the Guard (mm)\r\n",
      "sp = 0.127    --Spacing between electrodes (mm)\r\n",
      "numDC = 8    --Number of DC electrodes per TW Segment\r\n",
      "numRowsDC = 5    --Number of rows of TWAVE segments\r\n",
      "numRF = 6    --Number of RF Segments\r\n",
      "numGuards = 2    --Number of Guard Segments\r\n",
      "totalLen = 9.144    --Total Length of the monomer (mm)\r\n",
      "totalWidth = 12.2936    --Total Width of the monomer (mm)\r\n",
      "trackWidth = 5.9944    --Track Width (mm)\r\n",
      "d = 1.5875    -- half distance between the layers/boards (mm)\r\n"
     ]
    }
   ],
   "source": [
    "# write these parameters to a file that can be read by the setup.lua script\n",
    "# we will overwrite this later, but it's fine to leave here\n",
    "writeParamFile(paramDict, \"Extrude_SLIM_Parameters.lua\") \n",
    "!cat \"Extrude_SLIM_Parameters.lua\" # check what we have so far"
   ]
  },
  {
   "cell_type": "markdown",
   "id": "4cc7f211",
   "metadata": {},
   "source": [
    "## Dictionary Definition for Electrodes\n",
    "\n",
    "### Similar concept to param dict but includes color assignments for drawings. We will append this dictionary inside the param dictionary so it gets imported in the initilization script. You can change you colormaps here to distinguish different designs or concepts."
   ]
  },
  {
   "cell_type": "code",
   "execution_count": 5,
   "id": "20e75498",
   "metadata": {},
   "outputs": [
    {
     "data": {
      "text/plain": [
       "Text(0.5, 1.0, 'one color per electrode in monomer dictionary')"
      ]
     },
     "execution_count": 5,
     "metadata": {},
     "output_type": "execute_result"
    },
    {
     "data": {
      "image/png": "[encoded data removed]",
      "text/plain": [
       "<Figure size 1000x50 with 1 Axes>"
      ]
     },
     "metadata": {},
     "output_type": "display_data"
    }
   ],
   "source": [
    "# create a dictionary of electrodes with refs to SIMION elec-adjust assignments and a color for drawings\n",
    "# adding an entry here for each wire connected to the SLIM\n",
    "\n",
    "elecDict = {}\n",
    "colorDict = {}\n",
    "\n",
    "cm = 'turbo' # feel free to swap this out\n",
    "# cm = 'YlGnBu' \n",
    "# cm = 'spring' # a couple fun cmap options, you generally want a lot of contrast though\n",
    "cmap = plt.get_cmap(cm)\n",
    "\n",
    "elecKeys = []\n",
    "for i in range(numDC): # TW DCs\n",
    "    elecKeys.append('DC%d'%(i+1))\n",
    "\n",
    "elecKeys.append(\"RF1\") # RF\n",
    "elecKeys.append(\"RF2\")\n",
    "\n",
    "elecKeys.append(\"G\") # 2 sync'd guards use the same voltage, so just one assignment\n",
    "\n",
    "## add in optional extra electrodes, commented out to optimize use of color range\n",
    "# elecKeys.append(\"CE1\") # alt design\n",
    "if symmetry == \"'ASY'\":\n",
    "    elecKeys.append(\"P\") # add pusher\n",
    "    \n",
    "elecNums =  np.arange(0, len(elecKeys), 1)\n",
    "numColors = len(elecNums)\n",
    "colorMap = cmap(np.linspace(0, 0.9, numColors))\n",
    "\n",
    "for j,k in enumerate(elecKeys):\n",
    "    elecDict[k] = j+1 #because simion counts from 1\n",
    "    colorDict[k] = colorMap[j]    \n",
    "\n",
    "# finished product: combo of electrode names/keys:SIMION assignments and keys:color assignments\n",
    "elecDefinitions = [elecDict, colorDict] \n",
    "\n",
    "\n",
    "# these are all the colors we'll need for our different electrode assignments\n",
    "plt.figure(figsize = (10,0.5))\n",
    "grad = np.linspace(0, 0.9, numColors)\n",
    "grad = np.vstack((grad,grad))\n",
    "plt.imshow(grad, aspect='auto', cmap = cm)\n",
    "plt.title(\"one color per electrode in monomer dictionary\")"
   ]
  },
  {
   "cell_type": "code",
   "execution_count": 6,
   "id": "d71d1d24",
   "metadata": {},
   "outputs": [
    {
     "name": "stdout",
     "output_type": "stream",
     "text": [
      "Extrude_SLIM_Parameters.lua written to file \n",
      "\n"
     ]
    }
   ],
   "source": [
    "# save this dictionary to params file to make sure the assignments cary over\n",
    "elec_table = dict_to_table(elecDict)\n",
    "paramDict['elecDict'] = [elec_table, '-- elec keys : SIMION adj_elec dexes']\n",
    "writeParamFile(paramDict, \"Extrude_SLIM_Parameters.lua\")"
   ]
  },
  {
   "cell_type": "markdown",
   "id": "ed7c4c32",
   "metadata": {},
   "source": [
    "# Drawing Functions\n",
    "\n",
    "### Particularly important here is plotPolyList(), which allows you to check the polygon list that is being assembled as you draw and return relevant image dimensions for SIMION. Additionally, translatePolyList() allows you to shift and rotate your polygon list (for a monomer or whatever). Polygon lists are python list types, so they can be added together simply:\n",
    "<code> polymer_polygon_list = monomerA_poly_list + monomerB_poly_list </code>"
   ]
  },
  {
   "cell_type": "code",
   "execution_count": 7,
   "id": "d594296c",
   "metadata": {},
   "outputs": [],
   "source": [
    "# some simple functions for quickly creating polygon groups\n",
    "def drawGrids(drawInstance, imageInstance, step_count = 10):\n",
    "    '''adds grids to drawing, useful for alternative shapes'''\n",
    "    y_start = 0\n",
    "    y_end = image.height\n",
    "    step_size = int(imageInstance.width / step_count)\n",
    "\n",
    "    for x in range(0, imageInstance.width, step_size):\n",
    "        line = ((x, y_start), (x, y_end))\n",
    "        drawInstance.line(line, fill=\"gray\")\n",
    "\n",
    "    x_start = 0\n",
    "    x_end = imageInstance.width\n",
    "\n",
    "    for y in range(0, imageInstance.height, step_size):\n",
    "        line = ((x_start, y), (x_end, y))\n",
    "        drawInstance.line(line, fill=\"gray\") \n",
    "    \n",
    "    print(\"Step size: %d\"%step_size)\n",
    "    \n",
    "def rotate(p, origin=(0, 0), degrees=0):\n",
    "    '''\n",
    "    Function to rotate a set of coordinates around an origin\n",
    "    https://stackoverflow.com/questions/34372480/rotate-point-about-another-point-in-degrees-python\n",
    "    '''\n",
    "    angle = np.deg2rad(degrees)\n",
    "    R = np.array([[np.cos(angle), -np.sin(angle)],\n",
    "                  [np.sin(angle),  np.cos(angle)]])\n",
    "    o = np.atleast_2d(origin)\n",
    "    p = np.atleast_2d(p)\n",
    "    return np.squeeze((R @ (p.T-o.T) + o.T).T)\n",
    "    \n",
    "\n",
    "def plotPolyList(polyList, xPixels = monomerLen, yPixels = monomerWidth, colorMap = colorMap, retXY = False, gridBool = False, numGridLines = 10):\n",
    "    '''\n",
    "    Assumes rectangles\n",
    "    Re-draws the polygon coordinates being sent to SIMION, not the image returned from Pillow drawing\n",
    "    Good sanity check before exporting, use retXY before .gem file creation to get Simulation max XY\n",
    "    '''\n",
    "    \n",
    "    # create pil image\n",
    "    image = Image.new(\"RGB\", (xPixels, yPixels), \"white\")\n",
    "    draw = ImageDraw.Draw(image)\n",
    "    if gridBool:\n",
    "        drawGrids(draw, image, numGridLines)    \n",
    "    \n",
    "    # cursor / current, either way\n",
    "    curX = 0\n",
    "    curY = 0\n",
    "    \n",
    "    maxX = 0\n",
    "    maxY = 0\n",
    "    \n",
    "    for i,p in enumerate(polyList):\n",
    "        \n",
    "        \n",
    "        colorIndex = p[0]\n",
    "        curColor = mpl.colors.to_hex(colorMap[colorIndex-1])\n",
    "        pCoord = p[2]\n",
    "        x1 = pCoord[0][0]\n",
    "        y1 = pCoord[0][1]        \n",
    "        x2 = pCoord[1][0]\n",
    "        y2 = pCoord[1][1]        \n",
    "\n",
    "        draw.rectangle((x1, y1, x2, y2), fill = curColor)\n",
    "        \n",
    "        if max(x1, x2) > maxX:\n",
    "            maxX = max(x1, x2)\n",
    "    \n",
    "        if max(y1, y2) > maxY:\n",
    "            maxY = max(y1, y2)\n",
    "    \n",
    "    \n",
    "    if retXY:\n",
    "        return maxX, maxY, image\n",
    "    \n",
    "    else:\n",
    "        return image\n",
    "    \n",
    "    \n",
    "\n",
    "def translatePolyList(polyList, dX = 0, dY = 0, origin = (0,0), rotateBool = False, rotateAngle = 0, numDecimals = 1):\n",
    "    '''The assumption here is that if you are going to rotate, you do that first AND then translate'''\n",
    "    transPolyList = []\n",
    "    \n",
    "    for i,p in enumerate(polyList):\n",
    "        curCoords = p[2].copy() #print a polylist if you don't know what they look like\n",
    "        if rotateBool:\n",
    "            newCoords = rotate(curCoords, origin = origin, degrees = rotateAngle)\n",
    "        else:\n",
    "            newCoords = curCoords\n",
    "        \n",
    "        x1 = np.around(newCoords[0][0], decimals = numDecimals)\n",
    "        y1 = np.around(newCoords[0][1], decimals = numDecimals)\n",
    "        x2 = np.around(newCoords[1][0], decimals = numDecimals)\n",
    "        y2 = np.around(newCoords[1][1], decimals = numDecimals)\n",
    "        \n",
    "        x1+=dX\n",
    "        y1+=dY        \n",
    "        x2+=dX\n",
    "        y2+=dY\n",
    "        \n",
    "        newPolyPoint = [p[0], p[1], [(x1,y1),(x2,y2)]]\n",
    "        \n",
    "        transPolyList.append(newPolyPoint)\n",
    "        \n",
    "    return transPolyList\n",
    "\n",
    "\n",
    "def polymer_scaler(polymer_polys):\n",
    "    '''shifts the polymer into the frame based on absolute min X and Y'''\n",
    "    xlow = 0.0\n",
    "    ylow = 0.0\n",
    "    for n, polys in enumerate(polymer_polys):\n",
    "        if polys[2][0][0] < xlow:\n",
    "            xlow = polys[2][0][0]\n",
    "        if polys[2][1][0] < xlow:\n",
    "            xlow = polys[2][1][0]\n",
    "\n",
    "        if polys[2][0][1] < ylow:\n",
    "            ylow = polys[2][0][1]\n",
    "        if polys[2][1][1] < ylow:\n",
    "            ylow = polys[2][1][1]\n",
    "\n",
    "    return xlow, ylow\n",
    "\n",
    "\n",
    "def polygon_flipper(maxY, polygons):\n",
    "    '''mirrors polylist in y-dimension to match what will be seen in SIMION'''\n",
    "    new_polys = []\n",
    "    for n, poly in enumerate(polygons):\n",
    "        y1 = poly[2][0][1]\n",
    "        y2 = poly[2][1][1]\n",
    "        new_y1 = maxY - y1\n",
    "        new_y2 = maxY - y2\n",
    "        \n",
    "        new_coords = [(poly[2][0][0], new_y1), (poly[2][1][0], new_y2)]\n",
    "        new_poly =[poly[0], poly[1], new_coords] \n",
    "        new_polys.append(new_poly)\n",
    "    return new_polys"
   ]
  },
  {
   "cell_type": "markdown",
   "id": "c5ecfc43",
   "metadata": {},
   "source": [
    "## Generate a Monomer\n",
    "\n",
    "#### Generate the image and polygon list of a simple monomer, defaulting to above paramDict values. This generates a stock SLIM monomer and will likely require some modifications to stray too far from that. The polygon list for this monomer can be moved and shifted around to extrude a polymeric path or make turns, as will be shown."
   ]
  },
  {
   "cell_type": "code",
   "execution_count": 8,
   "id": "bf475526",
   "metadata": {},
   "outputs": [],
   "source": [
    "def genMonomer(monomerLen, monomerWidth, \n",
    "               sp = sp, \n",
    "               wGuard = wGuard, \n",
    "               wElectrode = wElectrode,\n",
    "               wRF = wRF, \n",
    "               numDC = numDC, \n",
    "               numRF = numRF,\n",
    "               elecDefinitions = elecDefinitions,\n",
    "               guardBool = [True, True]):\n",
    "\n",
    "    image = Image.new(\"RGB\", (monomerLen, monomerWidth), \"white\") # generate pillow image\n",
    "    draw = ImageDraw.Draw(image)\n",
    "    \n",
    "    polyList = [] # list of electrode definitions and polygon dimensions\n",
    "    elecType = ['box', 'polyline'] # only two types defined at present\n",
    "\n",
    "    elecDict, colorDict = elecDefinitions # unpack electrode dictionary\n",
    "    \n",
    "    ######### Start of TWAVE Segment Generation\n",
    "\n",
    "    curX = sp/2 # if the spacing between electrods is sp then when we join monomers together the starting point must be sp/2\n",
    "    yOffset = 0\n",
    "    startY = wGuard+sp+wRF+sp\n",
    "    yStep = sp+wRF+sp+wElectrode\n",
    "    \n",
    "    xShift = monomerLen\n",
    "\n",
    "    for n in range(numMonomersX):\n",
    "        xMod = xShift*n\n",
    "        ##########\n",
    "        ###Add TWAVE Electrodes\n",
    "        for i in range(numDC):\n",
    "            \n",
    "            curX= sp/2+(lElectrode+sp)*i\n",
    "\n",
    "            curY = startY-yStep  \n",
    "            for j in range(numRowsDC):\n",
    "                \n",
    "                elecKey = 'DC%d'%(i+1)\n",
    "                elecNum = elecDict[elecKey]\n",
    "                \n",
    "                curColor = mpl.colors.to_hex(colorDict[elecKey])\n",
    "                curY += yStep\n",
    "\n",
    "                x1, y1 = curX+xMod, curY\n",
    "                x2, y2 = curX+lElectrode+xMod, curY+wElectrode\n",
    "\n",
    "\n",
    "                #This next line contains the information that will be exported and read by SIMION for the generation of the gem file\n",
    "                polyList.append([elecNum, elecType[0], [(x1,y1),(x2,y2)]])#use box type for generation of gem file parameters\n",
    "                #The drawing of the rectangle using Pillow is separate from SIMION but represents what we are after.\n",
    "                draw.rectangle((x1, y1, x2, y2), fill = curColor)\n",
    "        #########\n",
    "\n",
    "\n",
    "    ########\n",
    "    ### RF Electrodes\n",
    "\n",
    "    rfPhaseInd = 0\n",
    "    \n",
    "    curX= 0\n",
    "    startY = wGuard+sp\n",
    "        \n",
    "    for n in range(numRF):\n",
    "        m = n%2 # just returns a 0 then a 1\n",
    "        elecKey = 'RF%d'%(m+1)\n",
    "        elecNum = elecDict[elecKey]\n",
    "        curColor = mpl.colors.to_hex(colorDict[elecKey])\n",
    "        \n",
    "        \n",
    "        curY = startY+yStep*n\n",
    "        x1, y1 = curX, curY\n",
    "        x2, y2 = curX+totalLen+xMod, curY+wRF\n",
    "\n",
    "        polyList.append([elecNum, elecType[0], [(x1,y1),(x2,y2)]])\n",
    "        draw.rectangle((x1, y1, x2, y2), fill = curColor)\n",
    "\n",
    "    #END RF\n",
    "    ############\n",
    "\n",
    "\n",
    "    ############\n",
    "    #Guards\n",
    "\n",
    "    elecKey = 'G'\n",
    "    elecNum = elecDict[elecKey]\n",
    "    curColor = mpl.colors.to_hex(colorDict[elecKey])   \n",
    "    \n",
    "    # Guard-1\n",
    "    if guardBool[0]:# Top Guard    \n",
    "        curX = 0\n",
    "        curY = 0\n",
    "\n",
    "        x1, y1 = curX, curY\n",
    "        x2, y2 = curX+totalLen+xMod, curY+wGuard\n",
    "        \n",
    "        polyList.append([elecNum, elecType[0], [(x1,y1),(x2,y2)]])\n",
    "        draw.rectangle((x1, y1, x2, y2), fill = curColor)\n",
    "\n",
    "    # Guard-2\n",
    "    if guardBool[1]:\n",
    "        curX = 0\n",
    "        curY = totalWidth-wGuard\n",
    "\n",
    "        x1, y1 = curX, curY\n",
    "        x2, y2 = curX+totalLen+xMod, curY+wGuard\n",
    "        \n",
    "        polyList.append([elecNum, elecType[0], [(x1,y1),(x2,y2)]])\n",
    "        draw.rectangle((x1, y1, x2, y2), fill = curColor)\n",
    "    \n",
    "    \n",
    "    x1 = 0\n",
    "    x2 = image.width\n",
    "    y1 = 0\n",
    "    y2 = image.height\n",
    "    \n",
    "    # if skipping a guard, crop the empty space\n",
    "    if not guardBool[0]:\n",
    "        y1+= wGuard\n",
    "    if not guardBool[1]:\n",
    "        y2 -= wGuard\n",
    "    image = image.crop((x1, y1, x2, y2))\n",
    "    \n",
    "    #End Guards\n",
    "    ############\n",
    "    \n",
    "    return image, polyList"
   ]
  },
  {
   "cell_type": "code",
   "execution_count": 9,
   "id": "4c7cdffd",
   "metadata": {},
   "outputs": [
    {
     "data": {
      "image/png": "[encoded data removed]",
      "text/plain": [
       "<PIL.Image.Image image mode=RGB size=360x484>"
      ]
     },
     "execution_count": 9,
     "metadata": {},
     "output_type": "execute_result"
    }
   ],
   "source": [
    "monomer_image, monomer_poly_list = genMonomer(monomerLen, monomerWidth, numDC = numDC, numRF = 6, guardBool = [True, True])\n",
    "# display(monomer_image) # test that image matches polygon list\n",
    "plotPolyList(monomer_poly_list)"
   ]
  },
  {
   "cell_type": "code",
   "execution_count": 10,
   "id": "c443e1f6-0754-49b1-8ca8-901ddf14b48a",
   "metadata": {},
   "outputs": [],
   "source": [
    "def genPusherMonomer(monomerLen, monomerWidth, \n",
    "               sp = sp, \n",
    "               wGuard = wGuard, \n",
    "               wElectrode = wElectrode,\n",
    "               wRF = wRF, \n",
    "               numDC = numDC, \n",
    "               numRF = numRF,\n",
    "               elecDefinitions = elecDefinitions,\n",
    "               guardBool = [True, True]):\n",
    "    \n",
    "    image = Image.new(\"RGB\", (monomerLen, monomerWidth), \"white\") # generate pillow image\n",
    "    draw = ImageDraw.Draw(image)\n",
    "    \n",
    "    polyList = [] #this list is key as it contains electrod definition and coordinates\n",
    "    elecType = ['box', 'polyline'] #only two types defined at present\n",
    "    \n",
    "    elecDict, colorDict = elecDefinitions\n",
    "\n",
    "    ######### Start of TWAVE Segment Generation\n",
    "\n",
    "    curX = sp/2 #if the spacing between electrods is sp then when we join monomers together the starting point must be sp/2\n",
    "    yOffset = 0\n",
    "    startY = wGuard+sp+wRF+sp\n",
    "    yStep = sp+wRF+sp+wElectrode\n",
    "\n",
    "    xShift = monomerLen\n",
    "\n",
    "    for n in range(numMonomersX):\n",
    "        xMod = xShift*n\n",
    "        ##########\n",
    "        ###Add TWAVE Electrodes\n",
    "        for i in range(numDC):\n",
    "            curX= sp/2+(lElectrode+sp)*i\n",
    "\n",
    "            curY = startY-yStep #0#wGuard+sp#yStep*(numRowsDC-1)    \n",
    "            for j in range(numRowsDC):\n",
    "                \n",
    "                elecKey = 'P'\n",
    "                elecNum = elecDict[elecKey]\n",
    "                \n",
    "                curColor = mpl.colors.to_hex(colorDict[elecKey])\n",
    "                curY += yStep\n",
    "\n",
    "                x1, y1 = curX+xMod, curY\n",
    "                x2, y2 = curX+lElectrode+xMod, curY+wElectrode\n",
    "\n",
    "\n",
    "                #This next line contains the information that will be exported and read by SIMION for the generation of the gem file\n",
    "                polyList.append([elecNum, elecType[0], [(x1,y1),(x2,y2)]])#use box type for generation of gem file parameters\n",
    "                #The drawing of the rectangle using Pillow is separate from SIMION but represents what we are after.\n",
    "                draw.rectangle((x1, y1, x2, y2), fill = curColor)\n",
    "        #########\n",
    "\n",
    "\n",
    "    ########\n",
    "    ### RF Electrodes\n",
    "\n",
    "    rfPhaseInd = 0\n",
    "\n",
    "    curX= 0\n",
    "    startY = wGuard+sp\n",
    "\n",
    "    for n in range(numRF):\n",
    "        m = n%2 # just returns a 0 then a 1\n",
    "        elecKey = 'P'\n",
    "        elecNum = elecDict[elecKey]\n",
    "        curColor = mpl.colors.to_hex(colorDict[elecKey])\n",
    "        \n",
    "        curY = startY+yStep*n\n",
    "        x1, y1 = curX, curY\n",
    "        x2, y2 = curX+totalLen+xMod, curY+wRF\n",
    "\n",
    "        polyList.append([elecNum, elecType[0], [(x1,y1),(x2,y2)]])\n",
    "        draw.rectangle((x1, y1, x2, y2), fill = curColor)\n",
    "\n",
    "\n",
    "    #END RF\n",
    "    ############\n",
    "\n",
    "\n",
    "    ############\n",
    "    #Guards\n",
    "\n",
    "    # Guards\n",
    "    \n",
    "    elecKey = 'G'\n",
    "    elecNum = elecDict[elecKey]\n",
    "    curColor = mpl.colors.to_hex(colorDict[elecKey])\n",
    "    \n",
    "    if guardBool[0]:#Top Guard    \n",
    "        curX = 0\n",
    "        curY = 0\n",
    "\n",
    "        x1, y1 = curX, curY\n",
    "        x2, y2 = curX+totalLen+xMod, curY+wGuard\n",
    "\n",
    "        polyList.append([elecNum, elecType[0], [(x1,y1),(x2,y2)]])\n",
    "        draw.rectangle((x1, y1, x2, y2), fill = curColor)\n",
    "\n",
    "    # Guard-2\n",
    "    if guardBool[1]:\n",
    "        curX = 0\n",
    "        curY = totalWidth-wGuard\n",
    "\n",
    "        x1, y1 = curX, curY\n",
    "        x2, y2 = curX+totalLen+xMod, curY+wGuard\n",
    "\n",
    "        polyList.append([elecNum, elecType[0], [(x1,y1),(x2,y2)]])\n",
    "        draw.rectangle((x1, y1, x2, y2), fill = curColor)\n",
    "    \n",
    "\n",
    "    x1 = 0\n",
    "    x2 = image.width\n",
    "    y1 = 0\n",
    "    y2 = image.height\n",
    "    \n",
    "    #is this elegant, no.  Sorry. \n",
    "    if not guardBool[0]:\n",
    "        y1+= wGuard\n",
    "    if not guardBool[1]:\n",
    "        y2 -= wGuard\n",
    "    image = image.crop((x1, y1, x2, y2))\n",
    "        \n",
    "    \n",
    "    #End Guards\n",
    "    ############\n",
    "    \n",
    "    return image, polyList"
   ]
  },
  {
   "cell_type": "code",
   "execution_count": 11,
   "id": "1463ebce-6269-4d20-89db-5f96da9a3bfe",
   "metadata": {},
   "outputs": [
    {
     "data": {
      "image/png": "[encoded data removed]",
      "text/plain": [
       "<PIL.Image.Image image mode=RGB size=360x484>"
      ]
     },
     "metadata": {},
     "output_type": "display_data"
    }
   ],
   "source": [
    "if symmetry == \"'ASY'\":\n",
    "    P_image, P_polyList = genPusherMonomer(monomerLen, monomerWidth, guardBool = [True, True])\n",
    "    display(P_image)"
   ]
  },
  {
   "cell_type": "markdown",
   "id": "f40576f1",
   "metadata": {},
   "source": [
    "# Functionalizing design from here is relatively simple:\n",
    "\n",
    "### These are quick functions written to demonstrate the utility of programming polymer extrusion. The first example extrudes a straight path of a desired length. This is just drawn up here, but the code to export it to SIMION is at the bottom. The second generates 90º turns that can be appended. The final builds off of these two base functions to extrude the path laid out in the SLIM pickins string."
   ]
  },
  {
   "cell_type": "markdown",
   "id": "948d84d2",
   "metadata": {},
   "source": [
    "## Example 1: Extrude to Polymeric Separation Length"
   ]
  },
  {
   "cell_type": "code",
   "execution_count": 12,
   "id": "d5ff4a80",
   "metadata": {},
   "outputs": [
    {
     "name": "stdout",
     "output_type": "stream",
     "text": [
      "separation length =  36.576 mm\n"
     ]
    },
    {
     "data": {
      "image/png": "[encoded data removed]",
      "text/plain": [
       "<PIL.Image.Image image mode=RGB size=1440x484>"
      ]
     },
     "metadata": {},
     "output_type": "display_data"
    }
   ],
   "source": [
    "def extrudePolymer(monomer_polys, length, retXY=False):\n",
    "    '''\n",
    "    takes in polygon list for monomer, returns one for a polymer\n",
    "    monomer_polys is the appropriate poly_list\n",
    "    length is in monomers, = total final length\n",
    "    '''\n",
    "    monomer_copy = monomer_polys.copy()\n",
    "    polymer_polys = monomer_copy.copy() # need to make copies so they don't recursively edit each other\n",
    "    \n",
    "    monoX, monoY, im = plotPolyList(monomer_copy, retXY=True)\n",
    "    for n in range(length-1):\n",
    "        add_piece = translatePolyList(monomer_copy, dX = (monoX*(n+1)), dY = 0)\n",
    "        polymer_polys+=add_piece\n",
    "    \n",
    "    polyX, polyY, poly_im = plotPolyList(polymer_polys, retXY=True)\n",
    "    \n",
    "    if retXY:\n",
    "        return polyX, polyY, polymer_polys\n",
    "    else:\n",
    "        return polymer_polys\n",
    "    \n",
    "    \n",
    "    \n",
    "# extrude a pentamer SLIM path\n",
    "polymer_length = 4\n",
    "print('separation length = ', polymer_length*monomerLen*pixelScale, 'mm')\n",
    "\n",
    "tetramer_maxX, tetramer_maxY, tetramer_polys = extrudePolymer(monomer_poly_list, length = polymer_length, retXY=True)\n",
    "plotPolyList(tetramer_polys, xPixels = tetramer_maxX, yPixels = tetramer_maxY)\n",
    "\n",
    "# if asymmetric\n",
    "if symmetry == \"'ASY'\":\n",
    "    P_tetramer_polys = extrudePolymer(P_polyList, length = polymer_length, retXY=False)\n",
    "    asy_img = plotPolyList(P_tetramer_polys, xPixels = tetramer_maxX, yPixels = tetramer_maxY)\n",
    "    display(asy_img)\n",
    "\n"
   ]
  },
  {
   "cell_type": "markdown",
   "id": "594814aa",
   "metadata": {},
   "source": [
    "## Example 2: Simple Turn Generator"
   ]
  },
  {
   "cell_type": "code",
   "execution_count": 13,
   "id": "85c61b85",
   "metadata": {},
   "outputs": [],
   "source": [
    "def makeGuard(gLen = monomerLen, gHeight =  wGuard, xOffset = 0, yOffset = 0, rotation = 0, gElec = elecNums[-1], gColor = colorMap[-1]):\n",
    "    xPixels = gLen+xOffset\n",
    "    yPixels = gHeight+yOffset\n",
    "\n",
    "    image = Image.new(\"RGB\", (xPixels, yPixels), \"white\")\n",
    "    draw = ImageDraw.Draw(image)\n",
    "\n",
    "\n",
    "    curX = xOffset #if the spacing between electrods is sp then when we join monomers together the starting point must be sp/2\n",
    "    curY = yOffset\n",
    "\n",
    "    polyList = [] #this list is key as it contains electrod definition and coordinates\n",
    "    elecKey = 'G'\n",
    "    elecNum = elecDict[elecKey]\n",
    "    curColor = mpl.colors.to_hex(colorDict[elecKey]) \n",
    "    elecType = 'box' #, 'polyline'] #only two types defined at present\n",
    "    \n",
    "    \n",
    "    x1, y1 = curX, curY\n",
    "    x2, y2 = curX+gLen, curY+gHeight\n",
    "\n",
    "    polyList.append([elecNum, elecType, [(x1,y1),(x2,y2)]])\n",
    "    \n",
    "    \n",
    "    \n",
    "    draw.rectangle((x1, y1, x2, y2), fill = curColor)\n",
    "    \n",
    "    return image, polyList\n",
    "\n",
    "def makeNinetyTurn(monomer_polys, direction, minimalist=False, display=False, rotate_degs=90, asy=False):\n",
    "    '''\n",
    "    Easy to functionalize turns for easy GUI interaction, iterative programmatic simulation generation, etc.\n",
    "    '''\n",
    "    \n",
    "    mono_copy = monomer_polys.copy()\n",
    "    if direction =='Left':\n",
    "        rotate_degs += 180\n",
    "        if asy:\n",
    "            turn_piece = translatePolyList(genPusherMonomer(monomerLen, monomerWidth, guardBool=[False, True])[1],rotateBool=True, rotateAngle=rotate_degs)\n",
    "        else:\n",
    "            turn_piece = translatePolyList(genMonomer(monomerLen, monomerWidth, guardBool=[False, True])[1],rotateBool=True, rotateAngle=rotate_degs)\n",
    "        turn_piece = translatePolyList(turn_piece, abs(polymer_scaler(turn_piece)[0]), abs(polymer_scaler(turn_piece)[1]))\n",
    "        x_drop = monomerLen-wGuard-sp\n",
    "        y_drop = (monomerWidth - monomerLen)-wGuard-sp#  -wGuard # -sp # -(lElectrode)\n",
    "        turn_piece = translatePolyList(turn_piece, dX = x_drop, dY = y_drop)\n",
    "        guard_piece = translatePolyList(makeGuard(trackWidth+wGuard, wGuard)[1], dX=monomerLen-sp, dY=totalWidth-wGuard)\n",
    "        \n",
    "        \n",
    "    if direction =='Right':\n",
    "        if asy:\n",
    "            turn_piece = translatePolyList(genPusherMonomer(monomerLen, monomerWidth, guardBool=[True, False])[1],rotateBool=True, rotateAngle=rotate_degs)\n",
    "        else:\n",
    "            turn_piece = translatePolyList(genMonomer(monomerLen, monomerWidth, guardBool=[True, False])[1],rotateBool=True, rotateAngle=rotate_degs)\n",
    "        turn_piece = translatePolyList(turn_piece, abs(polymer_scaler(turn_piece)[0]), abs(polymer_scaler(turn_piece)[1]))\n",
    "        x_drop = monomerLen\n",
    "        y_drop = wGuard+sp\n",
    "        turn_piece = translatePolyList(turn_piece, dX = x_drop, dY = y_drop)\n",
    "        guard_piece = translatePolyList(makeGuard(trackWidth+wGuard, wGuard)[1], dX=monomerLen-sp, dY=0)\n",
    "   \n",
    "    mono_copy+=turn_piece\n",
    "    mono_copy+=guard_piece\n",
    "    turn_polys = mono_copy\n",
    "    minimalist_turn = turn_piece + guard_piece    \n",
    "    \n",
    "    if minimalist:\n",
    "        turnMaxX, turnMaxY, turn_im = plotPolyList(minimalist_turn, retXY=True, xPixels=monomerLen*2, yPixels = monomerWidth)\n",
    "        return turn_im, minimalist_turn\n",
    "    else:\n",
    "        turnMaxX, turnMaxY, turn_im = plotPolyList(mono_copy, retXY=True, xPixels=monomerLen*2, yPixels = monomerWidth)\n",
    "        return turn_im, turn_polys"
   ]
  },
  {
   "cell_type": "code",
   "execution_count": 14,
   "id": "3cafc068",
   "metadata": {},
   "outputs": [
    {
     "name": "stdout",
     "output_type": "stream",
     "text": [
      "715.0 489.0\n"
     ]
    },
    {
     "data": {
      "image/png": "[encoded data removed]",
      "text/plain": [
       "<PIL.Image.Image image mode=RGB size=720x484>"
      ]
     },
     "metadata": {},
     "output_type": "display_data"
    }
   ],
   "source": [
    "turn_im, turn_polys = makeNinetyTurn(monomer_poly_list, direction=\"Right\", minimalist=False, display = True)\n",
    "turn_maxX, turn_maxY, turn_im2 = plotPolyList(turn_polys, monomerLen*2, monomerWidth, retXY=True)\n",
    "print(turn_maxX, turn_maxY)\n",
    "display(turn_im2)"
   ]
  },
  {
   "cell_type": "code",
   "execution_count": 15,
   "id": "4dc92d64-997f-4e3a-bf67-e251bf51b9f5",
   "metadata": {},
   "outputs": [
    {
     "name": "stdout",
     "output_type": "stream",
     "text": [
      "715.0 489.0\n"
     ]
    },
    {
     "data": {
      "image/png": "[encoded data removed]",
      "text/plain": [
       "<PIL.Image.Image image mode=RGB size=720x484>"
      ]
     },
     "metadata": {},
     "output_type": "display_data"
    }
   ],
   "source": [
    "if symmetry == \"'ASY'\":\n",
    "    turn_im, turn_polys = makeNinetyTurn(P_polyList, direction=\"Right\",asy = True, minimalist=False, display = True)\n",
    "    turn_maxX, turn_maxY, turn_im2 = plotPolyList(turn_polys, monomerLen*2, monomerWidth, retXY=True)\n",
    "    print(turn_maxX, turn_maxY)\n",
    "    display(turn_im2)"
   ]
  },
  {
   "cell_type": "markdown",
   "id": "3536690d",
   "metadata": {},
   "source": [
    "## Example 3: SLIM Pickins Style Implementation:"
   ]
  },
  {
   "cell_type": "code",
   "execution_count": 16,
   "id": "197bd925",
   "metadata": {},
   "outputs": [],
   "source": [
    "# SLIM Pickins uses strings to determine directional ordering\n",
    "def pickinsInterpreter(string, monomer_polys, retXY=False, asy=False):\n",
    "    '''take in SLIM Pickins string and return SIMION workspace'''\n",
    "    \n",
    "    new_mono = monomer_polys.copy()\n",
    "    poly_build = new_mono.copy()\n",
    "    \n",
    "    rotation = 0.0\n",
    "    curX = 0.0\n",
    "    curY = 0.0\n",
    "    \n",
    "    for n, direc in enumerate(string):\n",
    "        \n",
    "        if n ==0: # currently defualts to starting with a forward piece\n",
    "            continue\n",
    "        \n",
    "        if direc == 'F':\n",
    "            curX += monomerLen*np.cos(rotation*(np.pi/180)) # if side to side, add monomerLength\n",
    "            curY += monomerLen*np.sin(rotation*(np.pi/180)) # if up and down, add monomer Length to Y\n",
    "            poly_build += translatePolyList(new_mono, dX = curX, dY = curY, rotateBool=True, rotateAngle=rotation)\n",
    "\n",
    "            \n",
    "        if direc == 'L':\n",
    "            # first: trim the previous guard on the inside turn - not very elegant\n",
    "            # guard 1 = inside guard on L turn, guard 2 = inside on R turn\n",
    "            guard = poly_build[-2]\n",
    "            ng_lo = (min(guard[2][0][0], guard[2][1][0])-(sp*round(np.cos(rotation*np.pi/180))), min(guard[2][0][1], guard[2][1][1])-(sp*round(np.sin(rotation*np.pi/180))))\n",
    "            ng_hi = (max(guard[2][0][0], guard[2][1][0])-(sp*round(np.cos(rotation*np.pi/180))), max(guard[2][0][1], guard[2][1][1])-(sp*round(np.sin(rotation*np.pi/180))))\n",
    "            guard[2] = [ng_lo, ng_hi] # save adusted guard\n",
    "            \n",
    "            # add turn piece\n",
    "            turn = makeNinetyTurn(monomer_polys, \"Left\", minimalist=True, asy=asy)[1]\n",
    "            poly_build += translatePolyList(turn, dX = curX, dY = curY, rotateBool=True, rotateAngle=rotation)\n",
    "            \n",
    "            # update cursor and rotation\n",
    "            curX += np.cos(rotation*(np.pi/180)) * (monomerLen-wGuard-sp) + round((np.sin(rotation*(np.pi/180)))*(-(monomerWidth-wGuard-sp)))\n",
    "            curY += np.cos(rotation*(np.pi/180)) * (monomerLen-sp) + (np.sin(rotation*(np.pi/180))*(monomerLen-wGuard-sp))\n",
    "            rotation -= 90\n",
    "            \n",
    "        if direc=='R':\n",
    "            # first: trim the previous guard on the inside turn\n",
    "            guard = poly_build[-1]\n",
    "            ng_lo = (min(guard[2][0][0], guard[2][1][0])-(sp*round(np.cos(rotation*np.pi/180))), min(guard[2][0][1], guard[2][1][1])-(sp*round(np.sin(rotation*np.pi/180))))\n",
    "            ng_hi = (max(guard[2][0][0], guard[2][1][0])-(sp*round(np.cos(rotation*np.pi/180))), max(guard[2][0][1], guard[2][1][1])-(sp*round(np.sin(rotation*np.pi/180))))\n",
    "            guard[2] = [ng_lo, ng_hi] # save adusted guard\n",
    "            \n",
    "            # add turn piece\n",
    "            turn = makeNinetyTurn(monomer_polys, \"Right\", minimalist=True, asy=asy)[1]\n",
    "            poly_build += translatePolyList(turn, dX = curX, dY = curY, rotateBool=True, rotateAngle=rotation)\n",
    "            \n",
    "            # update cursor and rotation\n",
    "            curX += round(np.cos(rotation*(np.pi/180))) * (monomerLen+(monomerWidth-wGuard)-sp) + (np.sin(rotation*(np.pi/180))*(-wGuard-sp))\n",
    "            curY += round(np.cos(rotation*(np.pi/180))) * (wGuard+sp) + (np.sin(rotation*(np.pi/180))*(monomerLen+(monomerWidth-wGuard)-sp))\n",
    "            rotation += 90\n",
    "            \n",
    "\n",
    "    # shift image into frame and scale figure      \n",
    "    lowX, lowY = polymer_scaler(poly_build)\n",
    "    scaled = translatePolyList(poly_build, dY = abs(lowY), dX = abs(lowX))\n",
    "    maxX, maxY, im = plotPolyList(scaled, monomerLen*8, monomerWidth*8, retXY=True)\n",
    "    \n",
    "    # flip polygons in y-dimension to match SIMION coord-system\n",
    "    flip_polys = polygon_flipper(maxY, scaled)\n",
    "\n",
    "    if retXY:\n",
    "        return maxX, maxY, flip_polys, im\n",
    "    else:\n",
    "        display(im)\n",
    "        return flip_polys, im"
   ]
  },
  {
   "cell_type": "code",
   "execution_count": 17,
   "id": "0a50bbeb",
   "metadata": {},
   "outputs": [
    {
     "name": "stdout",
     "output_type": "stream",
     "text": [
      "FFFLFFLFFRFFRFFF\n",
      "1569.0\n"
     ]
    },
    {
     "data": {
      "image/png": "[encoded data removed]",
      "text/plain": [
       "<PIL.Image.Image image mode=RGB size=1569x2644>"
      ]
     },
     "execution_count": 17,
     "metadata": {},
     "output_type": "execute_result"
    }
   ],
   "source": [
    "# typing in a slim pickins string to export a sim \n",
    "pick_string = 'FFFLFFLFFRFFRFFF'\n",
    "polymaxX, polymaxY, build_polys, im = pickinsInterpreter(pick_string, monomer_poly_list, retXY=True)\n",
    "print(pick_string)\n",
    "\n",
    "print(polymaxX)\n",
    "# plotting polygons shows y-axis mirror of what you've made, to check the real version, use display(image)\n",
    "plotPolyList(build_polys, round(polymaxX), round(polymaxY))"
   ]
  },
  {
   "cell_type": "code",
   "execution_count": 18,
   "id": "290c449c",
   "metadata": {},
   "outputs": [
    {
     "data": {
      "image/png": "[encoded data removed]",
      "text/plain": [
       "<PIL.Image.Image image mode=RGB size=2880x3872>"
      ]
     },
     "metadata": {},
     "output_type": "display_data"
    }
   ],
   "source": [
    "if symmetry == \"'ASY'\":\n",
    "    polymaxX, polymaxY, asy_build_polys, im = pickinsInterpreter(pick_string, P_polyList, asy = True, retXY=True)\n",
    "    display(im)"
   ]
  },
  {
   "cell_type": "markdown",
   "id": "332d145c",
   "metadata": {},
   "source": [
    "# Export to SIMION"
   ]
  },
  {
   "cell_type": "markdown",
   "id": "b148c481",
   "metadata": {},
   "source": [
    "### 1. Updated Simulation Parameters"
   ]
  },
  {
   "cell_type": "code",
   "execution_count": 19,
   "id": "b683e7f8",
   "metadata": {},
   "outputs": [
    {
     "name": "stdout",
     "output_type": "stream",
     "text": [
      "ASY_pickins_test\n",
      "Extrude_SLIM_Parameters.lua written to file \n",
      "\n",
      "Symmetry = 'ASY'    --Field Symmetry\r\n",
      "wElectrode = 0.4064    --Width of the DC electrode (mm)\r\n",
      "lElectrode = 1.016    --Length of the DC electrode (mm)\r\n",
      "wRF = 0.4064    --Width of the RF (mm)\r\n",
      "wGuard = 3.1496    --Width of the Guard (mm)\r\n",
      "sp = 0.127    --Spacing between electrodes (mm)\r\n",
      "numDC = 8    --Number of DC electrodes per TW Segment\r\n",
      "numRowsDC = 5    --Number of rows of TWAVE segments\r\n",
      "numRF = 6    --Number of RF Segments\r\n",
      "numGuards = 2    --Number of Guard Segments\r\n",
      "totalLen = 39.852599999999995    --Total Length of the monomer (mm)\r\n",
      "totalWidth = 67.1576    --Total Width of the monomer (mm)\r\n",
      "trackWidth = 5.9944    --Track Width (mm)\r\n",
      "d = 1.5875    -- half distance between the layers/boards (mm)\r\n",
      "elecDict = {[\"DC1\"] = 1, [\"DC2\"] = 2, [\"DC3\"] = 3, [\"DC4\"] = 4, [\"DC5\"] = 5, [\"DC6\"] = 6, [\"DC7\"] = 7, [\"DC8\"] = 8, [\"RF1\"] = 9, [\"RF2\"] = 10, [\"G\"] = 11, [\"P\"] = 12}    -- elec keys : SIMION adj_elec dexes\r\n",
      "design_title = 'ASY_pickins_test'    --  Name for associated files\r\n"
     ]
    }
   ],
   "source": [
    "# update our param dictionary to the new simulation length and width, and re-export\n",
    "# this is critical for the SIMION space to match our image size\n",
    "\n",
    "paramDict['totalLen'] = [polymaxX*pixelScale, '--Total Length of the monomer (mm)']\n",
    "paramDict['totalWidth'] = [polymaxY*pixelScale, '--Total Width of the monomer (mm)']\n",
    "\n",
    "# let's also add a name for our creation:\n",
    "design_name = \"'pickins_test'\"\n",
    "if symmetry == \"'ASY'\":\n",
    "    design_name = \"'ASY_pickins_test'\"\n",
    "paramDict['design_title'] = [design_name, '--  Name for associated files']\n",
    "\n",
    "\n",
    "print(\"%s\"%design_name[1:-1])\n",
    "writeParamFile(paramDict, \"Extrude_SLIM_Parameters.lua\") # find a way to nameswap if desired\n",
    "!cat \"Extrude_SLIM_Parameters.lua\""
   ]
  },
  {
   "cell_type": "markdown",
   "id": "46c7e782",
   "metadata": {},
   "source": [
    "### 2. Extrude electrodes to 3D, Export gem File"
   ]
  },
  {
   "cell_type": "code",
   "execution_count": 20,
   "id": "99006b6a",
   "metadata": {},
   "outputs": [
    {
     "name": "stdout",
     "output_type": "stream",
     "text": [
      "1.5875 1.7874999999999999\n",
      "\n",
      "\te(%d)\n",
      "\t{\n",
      "\t\textrude_xy(1.5875, 1.7875){%s}\n",
      "\t}\n",
      "\n",
      "\n",
      "\te(%d)\n",
      "\t{\n",
      "\t\textrude_xy(0.0, 0.2){%s}\n",
      "\t}\n",
      "\n",
      "\n",
      "\te(%d)\n",
      "\t{\n",
      "\t\textrude_xy(3.375, 3.575){%s}\n",
      "\t}\n",
      "\n"
     ]
    }
   ],
   "source": [
    "  # d # 1/2 the distance between the boards in mm\n",
    "eThickness = 0.2 #200 um thick electrodes for simulation\n",
    "print(d, d+eThickness) #thinking about the distance between planes (0.2 would be electrodes that are 200 um thick)\n",
    "\n",
    "elecStrMirr = '''\n",
    "\\te(%d)\n",
    "\\t{\n",
    "\\t\\textrude_xy('''+str(d)+', '+str(round(d+eThickness, 4))+'''){%s}\n",
    "\\t}\n",
    "'''\n",
    "\n",
    "elecStr1 = '''\n",
    "\\te(%d)\n",
    "\\t{\n",
    "\\t\\textrude_xy(0.0, '''+str(eThickness)+'''){%s}\n",
    "\\t}\n",
    "'''\n",
    "elecStr2 = '''\n",
    "\\te(%d)\n",
    "\\t{\n",
    "\\t\\textrude_xy('''+str((d*2)+eThickness)+', '+str(round((d*2)+eThickness*2, 3))+'''){%s}\n",
    "\\t}\n",
    "'''\n",
    "print(elecStrMirr)\n",
    "\n",
    "print(elecStr1)\n",
    "\n",
    "print(elecStr2)"
   ]
  },
  {
   "cell_type": "code",
   "execution_count": 21,
   "id": "1df2d19a",
   "metadata": {},
   "outputs": [],
   "source": [
    "def genGemStr(polyList, elecStr = elecStrMirr, gemStr = '', pixelScale = pixelScale):\n",
    "    '''\n",
    "    Accepts a list of polynomials or boxes as defined in your SLIM to simulate\n",
    "    Accepts the electrode string as a basis for this expansion\n",
    "    The pixelScale is essential to translate your values in mils to the SIMION values in mm\n",
    "    '''\n",
    "    for elecDef in polyList:\n",
    "        curElec = elecDef[0]\n",
    "        curType = elecDef[1]\n",
    "        poly = elecDef[2]\n",
    "        polyStr = '%s('%curType\n",
    "        for i,p in enumerate(poly):\n",
    "            polyStr+='%.3f'%(p[0]*pixelScale)\n",
    "            polyStr+=','\n",
    "            polyStr+='%.3f'%(p[1]*pixelScale)\n",
    "            polyStr+=', '\n",
    "        polyStr = polyStr[0:-1]\n",
    "        polyStr += ')'\n",
    "\n",
    "        curElecStr = elecStrMirr%(curElec, polyStr)\n",
    "        gemStr += curElecStr\n",
    "    return gemStr\n",
    "\n",
    "def saveGEMFile(gemStr, fileName = 'user.gem'):\n",
    "    f = open(fileName, 'w')\n",
    "    f.write(gemStr)\n",
    "    f.close()\n",
    "    print(\"%s written to disk\"%fileName)\n",
    "    \n",
    "def genAsyGemStr(RFpolyList, pusherPolyList, gemStr='', pixelScale=pixelScale):\n",
    "    '''\n",
    "    Switching the lua code to not mirror the board means the pusher must be physically coded\n",
    "    \n",
    "    '''\n",
    "    for elecDef in RFpolyList:\n",
    "        curElec = elecDef[0]\n",
    "        curType = elecDef[1]\n",
    "        poly = elecDef[2]\n",
    "        polyStr = '%s('%curType\n",
    "        for i,p in enumerate(poly):\n",
    "            polyStr+='%.3f'%(p[0]*pixelScale)\n",
    "            polyStr+=','\n",
    "            polyStr+='%.3f'%(p[1]*pixelScale)\n",
    "            polyStr+=', '\n",
    "        polyStr = polyStr[0:-1]\n",
    "        polyStr += ')'\n",
    "        \n",
    "        curElecStr = elecStr1%(curElec, polyStr)\n",
    "        gemStr += curElecStr\n",
    "    \n",
    "    for elecDef in pusherPolyList:\n",
    "        curElec = elecDef[0]\n",
    "        curType = elecDef[1]\n",
    "        poly = elecDef[2]\n",
    "        polyStr = '%s('%curType\n",
    "        for i,p in enumerate(poly):\n",
    "            polyStr+='%.3f'%(p[0]*pixelScale)\n",
    "            polyStr+=','\n",
    "            polyStr+='%.3f'%(p[1]*pixelScale)\n",
    "            polyStr+=', '\n",
    "        polyStr = polyStr[0:-1]\n",
    "        polyStr += ')'\n",
    "        curElecStr = elecStr2%(curElec, polyStr)\n",
    "        gemStr += curElecStr\n",
    "\n",
    "    return gemStr"
   ]
  },
  {
   "cell_type": "code",
   "execution_count": 22,
   "id": "2951d28e",
   "metadata": {},
   "outputs": [
    {
     "name": "stdout",
     "output_type": "stream",
     "text": [
      "59209\n",
      "112962\n",
      "user.gem written to disk\n"
     ]
    }
   ],
   "source": [
    "gemStr = genGemStr(build_polys)\n",
    "print(len(gemStr))\n",
    "\n",
    "if symmetry == \"'ASY'\":\n",
    "    asyGemStr = genAsyGemStr(build_polys, asy_build_polys)\n",
    "    print(len(asyGemStr))\n",
    "\n",
    "# this is the electrode geometry file that will be read by our setup lua on init in SIMION\n",
    "saveGEMFile(gemStr, 'user.gem')"
   ]
  },
  {
   "cell_type": "markdown",
   "id": "309942a5",
   "metadata": {},
   "source": [
    "### 3. Custom Particle Definitions"
   ]
  },
  {
   "cell_type": "code",
   "execution_count": 23,
   "id": "7b512559",
   "metadata": {},
   "outputs": [],
   "source": [
    "# there is access to defining particles from within SIMION, \n",
    "# but could set them to automatically start and stop at simulation front and back\n",
    "\n",
    "def start_and_stop(poly_list, maxes = (polymaxX, polymaxY), stop_mer=-1, point_start=False, plotBool=False):\n",
    "    '''takes in polylist, returns start and stop planes for ions'''\n",
    "    \n",
    "    # x, y of 13th electrode is DC 3 in third row, find more pythonic way to find that though\n",
    "    start_x = ((poly_list[12][2][1][0] + poly_list[12][2][0][0])/2)*pixelScale\n",
    "    start_y = ((poly_list[12][2][1][1] + poly_list[12][2][0][1])/2)*pixelScale\n",
    "    if symmetry == \"'SYM'\":\n",
    "        start_z = 0.0\n",
    "    elif symmetry == \"'ASY'\":\n",
    "        start_z = d\n",
    "    \n",
    "    # stop should be a line over the end of the track\n",
    "    # in this case, 48 electrodes per monomer\n",
    "    elecs_per_mono = (numDC*numRowsDC) + numRF + numGuards\n",
    "    \n",
    "    # stopping plane\n",
    "    stop_x_lo = 100000.0\n",
    "    stop_x_hi = 0.0\n",
    "    stop_y_lo = 100000.0\n",
    "    stop_y_hi = 0.0\n",
    "    \n",
    "    if stop_mer < 0 :\n",
    "        stop_mer = int(len(poly_list)/elecs_per_mono)\n",
    "    if stop_mer:\n",
    "        \n",
    "        # electrodes in selected polymer index\n",
    "        for electrode in poly_list[((stop_mer-1) * elecs_per_mono) : (stop_mer*elecs_per_mono)]:\n",
    "            \n",
    "            # very ugly chunk that finds splat barrier for selected polymer index\n",
    "            if electrode[0] == numDC: # if electrode is in the last TW row of the selected\n",
    "                if electrode[2][0][0] < stop_x_lo or electrode[2][1][0] < stop_x_lo:\n",
    "                    if electrode[2][0][0] < electrode[2][1][0]:\n",
    "                        stop_x_lo = electrode[2][0][0]\n",
    "                    else:\n",
    "                        stop_x_lo = electrode[2][1][0]\n",
    "                if electrode[2][0][0]  > stop_x_hi or electrode[2][1][0] > stop_x_hi:\n",
    "                    if electrode[2][0][0] > electrode[2][1][0]:\n",
    "                        stop_x_hi = electrode[2][0][0]\n",
    "                    else:\n",
    "                        stop_x_hi = electrode[2][1][0]\n",
    "                if electrode[2][0][1] < stop_y_lo or electrode[2][1][1] < stop_y_lo:\n",
    "                    if electrode[2][0][1] < electrode[2][1][1]:\n",
    "                        stop_y_lo = electrode[2][0][1]\n",
    "                    else:\n",
    "                        stop_y_lo = electrode[2][1][1]\n",
    "                if electrode[2][0][1] > stop_y_hi or electrode[2][1][1] > stop_y_hi:\n",
    "                    if electrode[2][0][1] > electrode[2][1][1]:\n",
    "                        stop_y_hi = electrode[2][0][1]\n",
    "                    else:\n",
    "                        stop_y_hi = electrode[2][1][1]                                \n",
    "        \n",
    "        # whichever difference is larger, that is the finish-line width, extend that\n",
    "        if abs(stop_x_lo - stop_x_hi) > abs(stop_y_lo - stop_y_hi):\n",
    "            stop_x_lo -= 60\n",
    "            stop_x_hi += 60\n",
    "        else:\n",
    "            stop_y_lo -= 60\n",
    "            stop_y_hi += 60\n",
    "\n",
    "    rectangle = [stop_x_lo, stop_y_lo, stop_x_hi, stop_y_hi] # finish line\n",
    "    \n",
    "    if plotBool:\n",
    "        lowX, lowY = polymer_scaler(poly_list)\n",
    "        scaled = translatePolyList(poly_list, dY = abs(lowY), dX = abs(lowX))\n",
    "        image = plotPolyList(scaled, int(maxes[0]), int(maxes[1]))\n",
    "        draw = ImageDraw.Draw(image)\n",
    "        draw.rectangle(rectangle, fill = 'red') # finish line\n",
    "        \n",
    "        start_ellipse = [(start_x/pixelScale-40, start_y/pixelScale-40), (start_x/pixelScale+40, start_y/pixelScale+40)]\n",
    "        draw.ellipse(start_ellipse, fill='green')\n",
    "        display(image.transpose(method = Image.Transpose.FLIP_TOP_BOTTOM))\n",
    "    \n",
    "        \n",
    "    sim_rectangle = [round((px * pixelScale), 2) for px in rectangle]\n",
    "    \n",
    "    start, stop = (start_x, start_y, start_z),  sim_rectangle\n",
    "    \n",
    "    return start, stop"
   ]
  },
  {
   "cell_type": "code",
   "execution_count": 24,
   "id": "6f1b142a",
   "metadata": {},
   "outputs": [
    {
     "data": {
      "image/png": "[encoded data removed]",
      "text/plain": [
       "<PIL.Image.Image image mode=RGB size=1569x2644>"
      ]
     },
     "metadata": {},
     "output_type": "display_data"
    },
    {
     "name": "stdout",
     "output_type": "stream",
     "text": [
      "(6.1341, 6.1468, 1.5875)\n",
      "[38.77, 57.15, 39.79, 64.87]\n"
     ]
    }
   ],
   "source": [
    "start, stop = start_and_stop(build_polys, stop_mer=-1, plotBool=True)\n",
    "masses = [250, 500, 1000]\n",
    "charges = list(np.full(len(masses), 1))\n",
    "print(start)\n",
    "print(stop)"
   ]
  },
  {
   "cell_type": "code",
   "execution_count": 25,
   "id": "b2460f39",
   "metadata": {},
   "outputs": [
    {
     "name": "stdout",
     "output_type": "stream",
     "text": [
      "{38.77, 57.15, 39.79, 64.87}\n"
     ]
    }
   ],
   "source": [
    "stop_lua_arr = '{' + str(stop)[1:-1] + '}'\n",
    "print(stop_lua_arr)"
   ]
  },
  {
   "cell_type": "code",
   "execution_count": 26,
   "id": "4749dc99",
   "metadata": {},
   "outputs": [
    {
     "name": "stdout",
     "output_type": "stream",
     "text": [
      "Extrude_SLIM_Parameters.lua written to file \n",
      "\n"
     ]
    }
   ],
   "source": [
    "# the start will go in the fly string, but the stop should be added to the params file\n",
    "paramDict['splat_line'] = [stop_lua_arr, '    ----- rectangle box defining a fly finish line']\n",
    "writeParamFile(paramDict, \"Extrude_SLIM_Parameters.lua\") \n"
   ]
  },
  {
   "cell_type": "code",
   "execution_count": 27,
   "id": "305e0522",
   "metadata": {},
   "outputs": [
    {
     "name": "stdout",
     "output_type": "stream",
     "text": [
      "(6.1341, 6.1468, 1.5875)\n"
     ]
    }
   ],
   "source": [
    "print(start)"
   ]
  },
  {
   "cell_type": "code",
   "execution_count": 28,
   "id": "dc1d5ad5",
   "metadata": {},
   "outputs": [],
   "source": [
    "# define fly2 string:\n",
    "def flystring(masses, charges, start_pos, ions_per=30):\n",
    "    \n",
    "    fly_string = 'particles { coordinates = 0, '\n",
    "    print(fly_string)\n",
    "    for n, (m, c) in enumerate(zip(masses, charges)):\n",
    "        entry = 'standard_beam {n = %i, '%ions_per + 'tob =0, mass = %i, '%m + 'charge = %i, '%c + 'cwf = 1, color = %i, '%n + 'direction = vector(1, 0, 0), position = vector(%s) },\\n'%str(start)[1:-1]\n",
    "        \n",
    "        fly_string +=entry\n",
    "        \n",
    "    fly_string = fly_string[:-2]\n",
    "    fly_string += ' }'\n",
    "    return fly_string\n",
    "        "
   ]
  },
  {
   "cell_type": "code",
   "execution_count": 29,
   "id": "7a8e8f13",
   "metadata": {},
   "outputs": [
    {
     "name": "stdout",
     "output_type": "stream",
     "text": [
      "particles { coordinates = 0, \n",
      "particles { coordinates = 0, standard_beam {n = 30, tob =0, mass = 250, charge = 1, cwf = 1, color = 0, direction = vector(1, 0, 0), position = vector(6.1341, 6.1468, 1.5875) },\n",
      "standard_beam {n = 30, tob =0, mass = 500, charge = 1, cwf = 1, color = 1, direction = vector(1, 0, 0), position = vector(6.1341, 6.1468, 1.5875) },\n",
      "standard_beam {n = 30, tob =0, mass = 1000, charge = 1, cwf = 1, color = 2, direction = vector(1, 0, 0), position = vector(6.1341, 6.1468, 1.5875) } }\n"
     ]
    }
   ],
   "source": [
    "fly_string = flystring(masses, charges, start)\n",
    "print(fly_string)"
   ]
  },
  {
   "cell_type": "code",
   "execution_count": 30,
   "id": "2f124b30",
   "metadata": {},
   "outputs": [
    {
     "name": "stdout",
     "output_type": "stream",
     "text": [
      "ASY_pickins_test.fly2 written to disk\n"
     ]
    }
   ],
   "source": [
    "saveGEMFile(fly_string, \"%s.fly2\"%design_name[1:-1]) # can re-use our save function to make this easy"
   ]
  },
  {
   "cell_type": "markdown",
   "id": "a4d900eb",
   "metadata": {},
   "source": [
    "# Export the straight path:"
   ]
  },
  {
   "cell_type": "code",
   "execution_count": 31,
   "id": "39fa4de7",
   "metadata": {},
   "outputs": [
    {
     "name": "stdout",
     "output_type": "stream",
     "text": [
      "only continue if you would like to export the straight path and not anything created above\n"
     ]
    }
   ],
   "source": [
    "# raise SystemExit(\"Stop here before overwriting user.gem or the param dicts, which aren't named exclusively...\")\n",
    "print('only continue if you would like to export the straight path and not anything created above')"
   ]
  },
  {
   "cell_type": "code",
   "execution_count": 32,
   "id": "e2907324",
   "metadata": {},
   "outputs": [
    {
     "data": {
      "image/png": "[encoded data removed]",
      "text/plain": [
       "<PIL.Image.Image image mode=RGB size=1440x484>"
      ]
     },
     "execution_count": 32,
     "metadata": {},
     "output_type": "execute_result"
    }
   ],
   "source": [
    "plotPolyList(tetramer_polys, tetramer_maxX, tetramer_maxY)"
   ]
  },
  {
   "cell_type": "code",
   "execution_count": 33,
   "id": "978af3a7-c02c-4d98-ac40-584169a3c572",
   "metadata": {},
   "outputs": [
    {
     "data": {
      "image/png": "[encoded data removed]",
      "text/plain": [
       "<PIL.Image.Image image mode=RGB size=1440x484>"
      ]
     },
     "metadata": {},
     "output_type": "display_data"
    }
   ],
   "source": [
    "if symmetry == \"'ASY'\":\n",
    "    im = plotPolyList(P_tetramer_polys, tetramer_maxX, tetramer_maxY)\n",
    "    display(im)"
   ]
  },
  {
   "cell_type": "code",
   "execution_count": 34,
   "id": "3f708c97",
   "metadata": {
    "scrolled": true
   },
   "outputs": [
    {
     "name": "stdout",
     "output_type": "stream",
     "text": [
      "asy_tetramer\n",
      "Extrude_SLIM_Parameters.lua written to file \n",
      "\n",
      "Symmetry = 'ASY'    --Field Symmetry\n",
      "wElectrode = 0.4064    --Width of the DC electrode (mm)\n",
      "lElectrode = 1.016    --Length of the DC electrode (mm)\n",
      "wRF = 0.4064    --Width of the RF (mm)\n",
      "wGuard = 3.1496    --Width of the Guard (mm)\n",
      "sp = 0.127    --Spacing between electrodes (mm)\n",
      "numDC = 8    --Number of DC electrodes per TW Segment\n",
      "numRowsDC = 5    --Number of rows of TWAVE segments\n",
      "numRF = 6    --Number of RF Segments\n",
      "numGuards = 2    --Number of Guard Segments\n",
      "totalLen = 36.576    --Total Length of the monomer (mm)\n",
      "totalWidth = 12.2936    --Total Width of the monomer (mm)\n",
      "trackWidth = 5.9944    --Track Width (mm)\n",
      "d = 1.5875    -- half distance between the layers/boards (mm)\n",
      "elecDict = {[\"DC1\"] = 1, [\"DC2\"] = 2, [\"DC3\"] = 3, [\"DC4\"] = 4, [\"DC5\"] = 5, [\"DC6\"] = 6, [\"DC7\"] = 7, [\"DC8\"] = 8, [\"RF1\"] = 9, [\"RF2\"] = 10, [\"G\"] = 11, [\"P\"] = 12}    -- elec keys : SIMION adj_elec dexes\n",
      "design_title = 'asy_tetramer'    --  Name for associated files\n",
      "splat_line = {38.77, 57.15, 39.79, 64.87}        ----- rectangle box defining a fly finish line\n",
      "user.gem written to disk\n"
     ]
    }
   ],
   "source": [
    "# update our param dictionary to the new simulation length and width, and re-export\n",
    "# this is critical for the SIMION space to match our image size\n",
    "\n",
    "paramDict['totalLen'] = [tetramer_maxX*pixelScale, '--Total Length of the monomer (mm)']\n",
    "paramDict['totalWidth'] = [tetramer_maxY*pixelScale, '--Total Width of the monomer (mm)']\n",
    "\n",
    "# let's also add a name for our creation:\n",
    "design_name = \"'tetramer'\"\n",
    "if symmetry == \"'ASY'\":\n",
    "    design_name = \"'asy_tetramer'\"\n",
    "paramDict['design_title'] = [design_name, '--  Name for associated files']\n",
    "\n",
    "\n",
    "print(\"%s\"%design_name[1:-1])\n",
    "writeParamFile(paramDict, \"Extrude_SLIM_Parameters.lua\") \n",
    "!cat \"Extrude_SLIM_Parameters.lua\"\n",
    "\n",
    "gemStr = genGemStr(tetramer_polys)\n",
    "if symmetry == \"'ASY'\":\n",
    "    gemStr = genAsyGemStr(tetramer_polys, P_tetramer_polys)\n",
    "\n",
    "# this is the electrode geometry file that will be read by our setup lua on init in SIMION\n",
    "saveGEMFile(gemStr, 'user.gem')"
   ]
  },
  {
   "cell_type": "code",
   "execution_count": 35,
   "id": "5604f65c",
   "metadata": {},
   "outputs": [
    {
     "data": {
      "image/png": "[encoded data removed]",
      "text/plain": [
       "<PIL.Image.Image image mode=RGB size=1440x484>"
      ]
     },
     "metadata": {},
     "output_type": "display_data"
    },
    {
     "name": "stdout",
     "output_type": "stream",
     "text": [
      "(2.8575, 6.1468, 1.5875)\n",
      "[35.5, 2.29, 36.51, 10.01]\n",
      "{35.5, 2.29, 36.51, 10.01}\n",
      "Extrude_SLIM_Parameters.lua written to file \n",
      "\n"
     ]
    }
   ],
   "source": [
    "start, stop = start_and_stop(tetramer_polys, stop_mer=-1, maxes = (tetramer_maxX, tetramer_maxY), plotBool=True)\n",
    "masses = [322, 622, 922, 1222, 1522, 1822]\n",
    "charges = list(np.full(len(masses), 1))\n",
    "print(start)\n",
    "print(stop)\n",
    "                             \n",
    "# the start will go in the fly string, but the stop should be added to the params file\n",
    "stop_lua_arr = '{' + str(stop)[1:-1] + '}'\n",
    "print(stop_lua_arr)\n",
    "paramDict['splat_line'] = [stop_lua_arr, '    ----- rectangle box defining a fly finish line']\n",
    "writeParamFile(paramDict, \"Extrude_SLIM_Parameters.lua\") "
   ]
  },
  {
   "cell_type": "code",
   "execution_count": 36,
   "id": "73361bcb",
   "metadata": {},
   "outputs": [
    {
     "name": "stdout",
     "output_type": "stream",
     "text": [
      "particles { coordinates = 0, \n",
      "asy_tetramer.fly2 written to disk\n"
     ]
    }
   ],
   "source": [
    "fly_string = flystring(masses, charges, start)\n",
    "saveGEMFile(fly_string, \"%s.fly2\"%design_name[1:-1]) # can re-use our save function to make this easy"
   ]
  },
  {
   "cell_type": "code",
   "execution_count": null,
   "id": "ebbb0b0b-f62d-4f1d-b3e4-ec4643704bbf",
   "metadata": {},
   "outputs": [],
   "source": []
  },
  {
   "cell_type": "code",
   "execution_count": null,
   "id": "044dc20d",
   "metadata": {},
   "outputs": [],
   "source": []
  }
 ],
 "metadata": {
  "kernelspec": {
   "display_name": "Python 3 (ipykernel)",
   "language": "python",
   "name": "python3"
  },
  "language_info": {
   "codemirror_mode": {
    "name": "ipython",
    "version": 3
   },
   "file_extension": ".py",
   "mimetype": "text/x-python",
   "name": "python",
   "nbconvert_exporter": "python",
   "pygments_lexer": "ipython3",
   "version": "3.10.11"
  }
 },
 "nbformat": 4,
 "nbformat_minor": 5
}
